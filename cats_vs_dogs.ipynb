{
  "nbformat": 4,
  "nbformat_minor": 0,
  "metadata": {
    "colab": {
      "provenance": []
    },
    "kernelspec": {
      "name": "python3",
      "display_name": "Python 3"
    },
    "language_info": {
      "name": "python"
    },
    "accelerator": "GPU",
    "gpuClass": "standard"
  },
  "cells": [
    {
      "cell_type": "code",
      "execution_count": 15,
      "metadata": {
        "colab": {
          "base_uri": "https://localhost:8080/"
        },
        "id": "ZRHpJ_BSn9CC",
        "outputId": "6b7b5d95-fa0a-49af-a529-617d2c2f93af"
      },
      "outputs": [
        {
          "output_type": "stream",
          "name": "stdout",
          "text": [
            "Looking in indexes: https://pypi.org/simple, https://us-python.pkg.dev/colab-wheels/public/simple/\n",
            "Requirement already satisfied: kaggle in /usr/local/lib/python3.10/dist-packages (1.5.13)\n",
            "Requirement already satisfied: certifi in /usr/local/lib/python3.10/dist-packages (from kaggle) (2022.12.7)\n",
            "Requirement already satisfied: urllib3 in /usr/local/lib/python3.10/dist-packages (from kaggle) (1.26.15)\n",
            "Requirement already satisfied: python-dateutil in /usr/local/lib/python3.10/dist-packages (from kaggle) (2.8.2)\n",
            "Requirement already satisfied: requests in /usr/local/lib/python3.10/dist-packages (from kaggle) (2.27.1)\n",
            "Requirement already satisfied: tqdm in /usr/local/lib/python3.10/dist-packages (from kaggle) (4.65.0)\n",
            "Requirement already satisfied: six>=1.10 in /usr/local/lib/python3.10/dist-packages (from kaggle) (1.16.0)\n",
            "Requirement already satisfied: python-slugify in /usr/local/lib/python3.10/dist-packages (from kaggle) (8.0.1)\n",
            "Requirement already satisfied: text-unidecode>=1.3 in /usr/local/lib/python3.10/dist-packages (from python-slugify->kaggle) (1.3)\n",
            "Requirement already satisfied: idna<4,>=2.5 in /usr/local/lib/python3.10/dist-packages (from requests->kaggle) (3.4)\n",
            "Requirement already satisfied: charset-normalizer~=2.0.0 in /usr/local/lib/python3.10/dist-packages (from requests->kaggle) (2.0.12)\n",
            "mkdir: cannot create directory ‘/root/.kaggle’: File exists\n",
            "microsoft-catsvsdogs-dataset.zip: Skipping, found more recently modified local copy (use --force to force download)\n",
            "Cannot identify image file: PetImages/Cat/Thumbs.db\n",
            "Cannot identify image file: PetImages/Cat/666.jpg\n",
            "Cannot identify image file: PetImages/Dog/Thumbs.db\n"
          ]
        },
        {
          "output_type": "stream",
          "name": "stderr",
          "text": [
            "/usr/local/lib/python3.10/dist-packages/PIL/TiffImagePlugin.py:819: UserWarning: Truncated File Read\n",
            "  warnings.warn(str(msg))\n"
          ]
        },
        {
          "output_type": "stream",
          "name": "stdout",
          "text": [
            "Cannot identify image file: PetImages/Dog/11702.jpg\n",
            "Found 21685 images belonging to 2 classes.\n",
            "Found 6687 images belonging to 2 classes.\n",
            "Epoch 1/10\n",
            "678/678 [==============================] - 194s 283ms/step - loss: 0.6562 - accuracy: 0.5985 - val_loss: 0.6950 - val_accuracy: 0.5565\n",
            "Epoch 2/10\n",
            "678/678 [==============================] - 191s 282ms/step - loss: 0.5889 - accuracy: 0.6829 - val_loss: 0.5364 - val_accuracy: 0.7356\n",
            "Epoch 3/10\n",
            "678/678 [==============================] - 189s 279ms/step - loss: 0.5468 - accuracy: 0.7195 - val_loss: 0.4972 - val_accuracy: 0.7648\n",
            "Epoch 4/10\n",
            "678/678 [==============================] - 189s 278ms/step - loss: 0.5116 - accuracy: 0.7451 - val_loss: 0.4705 - val_accuracy: 0.7790\n",
            "Epoch 5/10\n",
            "678/678 [==============================] - 189s 278ms/step - loss: 0.4908 - accuracy: 0.7618 - val_loss: 0.4183 - val_accuracy: 0.8108\n",
            "Epoch 6/10\n",
            "678/678 [==============================] - 188s 278ms/step - loss: 0.4736 - accuracy: 0.7732 - val_loss: 0.4103 - val_accuracy: 0.8111\n",
            "Epoch 7/10\n",
            "678/678 [==============================] - 188s 278ms/step - loss: 0.4535 - accuracy: 0.7869 - val_loss: 0.3960 - val_accuracy: 0.8232\n",
            "Epoch 8/10\n",
            "678/678 [==============================] - 190s 280ms/step - loss: 0.4409 - accuracy: 0.7947 - val_loss: 0.3679 - val_accuracy: 0.8374\n",
            "Epoch 9/10\n",
            "678/678 [==============================] - 189s 279ms/step - loss: 0.4298 - accuracy: 0.8018 - val_loss: 0.4491 - val_accuracy: 0.7989\n",
            "Epoch 10/10\n",
            "678/678 [==============================] - 189s 279ms/step - loss: 0.4068 - accuracy: 0.8156 - val_loss: 0.3458 - val_accuracy: 0.8458\n",
            "209/209 [==============================] - 21s 103ms/step - loss: 0.3458 - accuracy: 0.8458\n",
            "Validation accuracy: 0.85\n"
          ]
        }
      ],
      "source": [
        "!pip install kaggle\n",
        "!mkdir ~/.kaggle\n",
        "!cp /content/kaggle.json ~/.kaggle/\n",
        "!chmod 600 ~/.kaggle/kaggle.json\n",
        "!kaggle datasets download -d shaunthesheep/microsoft-catsvsdogs-dataset\n",
        "!unzip -o -q microsoft-catsvsdogs-dataset.zip\n",
        "\n",
        "import os\n",
        "import shutil\n",
        "import numpy as np\n",
        "import tensorflow as tf\n",
        "from tensorflow.keras.preprocessing.image import ImageDataGenerator, img_to_array\n",
        "from tensorflow.keras.models import Sequential\n",
        "from tensorflow.keras.layers import Conv2D, MaxPooling2D, Flatten, Dense, Dropout\n",
        "from tensorflow.keras.optimizers import Adam\n",
        "from tensorflow.keras.callbacks import EarlyStopping\n",
        "from sklearn.model_selection import train_test_split\n",
        "from PIL import Image\n",
        "\n",
        "def safe_load_img(img_path, target_size=None):\n",
        "    try:\n",
        "        img = Image.open(img_path)\n",
        "        if target_size:\n",
        "            img = img.resize(target_size)\n",
        "        return np.array(img)\n",
        "    except:\n",
        "        print(f\"Cannot identify image file: {img_path}\")\n",
        "        return None\n",
        "\n",
        "class SafeImageDataGenerator(ImageDataGenerator):\n",
        "    def __init__(self, *args, **kwargs):\n",
        "        super().__init__(*args, **kwargs)\n",
        "\n",
        "    def _get_batches_of_transformed_samples(self, index_array):\n",
        "        batch_x = np.zeros((len(index_array),) + self.image_shape, dtype=self.dtype)\n",
        "        batch_y = np.zeros(len(index_array), dtype=self.dtype)\n",
        "        for i, j in enumerate(index_array):\n",
        "            fname = self.filenames[j]\n",
        "            img_path = os.path.join(self.directory, fname)\n",
        "            img = safe_load_img(img_path, self.target_size)\n",
        "            if img is not None:\n",
        "                x = img_to_array(img, data_format=self.data_format)\n",
        "                x = self.image_data_generator.random_transform(x)\n",
        "                x = self.image_data_generator.standardize(x)\n",
        "                batch_x[i] = x\n",
        "                batch_y[i] = self.classes[j]\n",
        "            else:\n",
        "                continue\n",
        "        return batch_x, batch_y\n",
        "\n",
        "base_dir = 'PetImages'\n",
        "train_dir = os.path.join(base_dir, 'Train')\n",
        "validation_dir = os.path.join(base_dir, 'Validation')\n",
        "\n",
        "os.makedirs(train_dir, exist_ok=True)\n",
        "os.makedirs(validation_dir, exist_ok=True)\n",
        "\n",
        "os.makedirs(os.path.join(train_dir, 'Cat'), exist_ok=True)\n",
        "os.makedirs(os.path.join(train_dir, 'Dog'), exist_ok=True)\n",
        "os.makedirs(os.path.join(validation_dir, 'Cat'), exist_ok=True)\n",
        "os.makedirs(os.path.join(validation_dir, 'Dog'), exist_ok=True)\n",
        "\n",
        "def is_image_valid(image_path):\n",
        "    img = safe_load_img(image_path)\n",
        "    return img is not None\n",
        "\n",
        "def split_and_move_images(animal):\n",
        "    src_dir = os.path.join(base_dir, animal)\n",
        "    train_dest_dir = os.path.join(train_dir, animal)\n",
        "    val_dest_dir = os.path.join(validation_dir, animal)\n",
        "\n",
        "    images = [img for img in os.listdir(src_dir) if is_image_valid(os.path.join(src_dir, img))]\n",
        "    train_images, val_images = train_test_split(images, test_size=0.2, random_state=42)\n",
        "\n",
        "    for img in train_images:\n",
        "        shutil.move(os.path.join(src_dir, img), os.path.join(train_dest_dir, img))\n",
        "\n",
        "    for img in val_images:\n",
        "        shutil.move(os.path.join(src_dir, img), os.path.join(val_dest_dir, img))\n",
        "\n",
        "split_and_move_images('Cat')\n",
        "split_and_move_images('Dog')\n",
        "\n",
        "BATCH_SIZE = 32\n",
        "IMG_SIZE = (150, 150)\n",
        "\n",
        "train_datagen = SafeImageDataGenerator(rescale=1./255,\n",
        "                                       rotation_range=40,\n",
        "                                       width_shift_range=0.2,\n",
        "                                       height_shift_range=0.2,\n",
        "                                       shear_range=0.2,\n",
        "                                       zoom_range=0.2,\n",
        "                                       horizontal_flip=True,\n",
        "                                       fill_mode='nearest')\n",
        "\n",
        "validation_datagen = SafeImageDataGenerator(rescale=1./255)\n",
        "\n",
        "train_generator = train_datagen.flow_from_directory(train_dir,\n",
        "                                                    target_size=IMG_SIZE,\n",
        "                                                    batch_size=BATCH_SIZE,\n",
        "                                                    class_mode='binary')\n",
        "\n",
        "validation_generator = validation_datagen.flow_from_directory(validation_dir,\n",
        "                                                              target_size=IMG_SIZE,\n",
        "                                                              batch_size=BATCH_SIZE,\n",
        "                                                              class_mode='binary')\n",
        "\n",
        "model = Sequential([\n",
        "    Conv2D(32, (3, 3), activation='relu', input_shape=(150, 150, 3)),\n",
        "    MaxPooling2D(2, 2),\n",
        "    Conv2D(64, (3, 3), activation='relu'),\n",
        "    MaxPooling2D(2, 2),\n",
        "    Conv2D(128, (3, 3), activation='relu'),\n",
        "    MaxPooling2D(2, 2),\n",
        "    Conv2D(128, (3, 3), activation='relu'),\n",
        "    MaxPooling2D(2, 2),\n",
        "    Flatten(),\n",
        "    Dense(512, activation='relu'),\n",
        "    Dropout(0.5),\n",
        "    Dense(1, activation='sigmoid')\n",
        "])\n",
        "\n",
        "model.compile(loss='binary_crossentropy',\n",
        "              optimizer=Adam(learning_rate=1e-4),\n",
        "              metrics=['accuracy'])\n",
        "\n",
        "EPOCHS = 10 #100\n",
        "early_stopping = EarlyStopping(patience=10, restore_best_weights=True)\n",
        "\n",
        "history = model.fit(train_generator,\n",
        "                    epochs=EPOCHS,\n",
        "                    validation_data=validation_generator,\n",
        "                    callbacks=[early_stopping])\n",
        "\n",
        "loss, accuracy = model.evaluate(validation_generator)\n",
        "print(f\"Validation accuracy: {accuracy:.2f}\")\n",
        "\n",
        "model.save('cat_dog_classifier.h5')\n"
      ]
    },
    {
      "cell_type": "code",
      "source": [
        "import numpy as np\n",
        "from tensorflow.keras.models import load_model\n",
        "from tensorflow.keras.preprocessing.image import load_img, img_to_array\n",
        "\n",
        "def predict_image(image_path, model):\n",
        "    img = load_img(image_path, target_size=IMG_SIZE)\n",
        "    img_array = img_to_array(img)\n",
        "    img_array = img_array / 255.\n",
        "    img_array = np.expand_dims(img_array, axis=0)\n",
        "    \n",
        "    prediction = model.predict(img_array)\n",
        "    return prediction\n",
        "\n",
        "model = load_model('cat_dog_classifier.h5')\n",
        "\n",
        "image_path = \"/content/puma.jpeg\"\n",
        "prediction = predict_image(image_path, model)\n",
        "\n",
        "if prediction[0] < 0.5:\n",
        "    print(\"Predicción: Gato\")\n",
        "else:\n",
        "    print(\"Predicción: Perro\")\n"
      ],
      "metadata": {
        "colab": {
          "base_uri": "https://localhost:8080/"
        },
        "id": "l-6b25O62T84",
        "outputId": "3cfd0d10-650e-4554-a9e1-d2c5e5cbb7aa"
      },
      "execution_count": 12,
      "outputs": [
        {
          "output_type": "stream",
          "name": "stdout",
          "text": [
            "1/1 [==============================] - 0s 77ms/step\n",
            "Predicción: Gato\n"
          ]
        }
      ]
    },
    {
      "cell_type": "code",
      "source": [
        "from sklearn.metrics import confusion_matrix\n",
        "\n",
        "# Obtener las etiquetas verdaderas y las predicciones en el conjunto de validación\n",
        "y_true = validation_generator.classes\n",
        "y_pred = model.predict(validation_generator)\n",
        "y_pred_binary = np.round(y_pred).flatten()\n",
        "\n",
        "# Calcular la matriz de confusión\n",
        "cm = confusion_matrix(y_true, y_pred_binary)\n",
        "\n",
        "# Imprimir la matriz de confusión\n",
        "print(cm)\n",
        "\n",
        "\n"
      ],
      "metadata": {
        "colab": {
          "base_uri": "https://localhost:8080/"
        },
        "id": "0WDuiKih7DYv",
        "outputId": "70e87c5c-480c-40ad-87fa-c891baa16c5c"
      },
      "execution_count": 14,
      "outputs": [
        {
          "output_type": "stream",
          "name": "stdout",
          "text": [
            "209/209 [==============================] - 20s 98ms/step\n",
            "[[2737 1450]\n",
            " [1615  885]]\n",
            "La clase minoritaria es Perro\n"
          ]
        }
      ]
    },
    {
      "cell_type": "code",
      "source": [
        "\n",
        "(unique_labels, counts) = np.unique(y_true, return_counts=True)\n",
        "\n",
        "# Encontrar la clase minoritaria\n",
        "minority_class_index = np.argmin(counts)\n",
        "minority_class = unique_labels[minority_class_index]\n",
        "\n",
        "if minority_class == 0:\n",
        "    print(\"La clase minoritaria es Gato\")\n",
        "else:\n",
        "    print(\"La clase minoritaria es Perro\")"
      ],
      "metadata": {
        "id": "eueDARGf7raR"
      },
      "execution_count": null,
      "outputs": []
    }
  ]
}